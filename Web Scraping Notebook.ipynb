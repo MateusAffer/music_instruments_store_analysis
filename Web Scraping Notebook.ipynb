{
 "cells": [
  {
   "cell_type": "markdown",
   "metadata": {},
   "source": [
    "# Análise de lojas de instrumentos musicais - Parte 01 Web Scraping\n",
    "<hr>"
   ]
  },
  {
   "cell_type": "markdown",
   "metadata": {},
   "source": [
    "## **0.0 Objetivo e Introdução**"
   ]
  },
  {
   "cell_type": "markdown",
   "metadata": {
    "ExecuteTime": {
     "end_time": "2020-11-09T21:49:48.708343Z",
     "start_time": "2020-11-09T21:49:48.701360Z"
    }
   },
   "source": [
    "O objetivo deste projeto é analisar os dados de instrumentos musicais extraídos de três diferentes sites. A **parte 01** vai focar apenas na parte de Web Scraping e a **parte 02** na análise exploratória e clusterização.\n",
    "<hr>\n",
    "\n",
    "**Objetivo da Parte 01** <br>\n",
    "Extrair dados dos instrumentos musicais e exportar estas informações para um arquivo Excel. Além da linguagem **Python**, para extrair os dados dos sites serão utilizadas as bibliotecas **Beautiful Soup** e também **Selenium** para suporte em alguns casos. Para facilitar a exportação e análise posterior, vamos transformar os dados em um Dataframe utilizando **Pandas**.\n",
    "\n",
    "**Importante!** <br>\n",
    "Antes de começar a extrair os dados do site, adicionei `robots.txt` ao final da URL da página inicial para checar se não existiam restrições para a extração dos dados. Como não haviam, podemos seguir.\n",
    "\n",
    "**Sites**\n",
    "1. [Tango](https://www.tangomusic.com.br/)\n",
    "2. [Made in Brazil](https://www.madeinbrazil.com.br/)\n",
    "3. [Barra Music](https://www.barramusic.com.br/)\n"
   ]
  },
  {
   "cell_type": "markdown",
   "metadata": {},
   "source": [
    "## 1.0 Estratégia"
   ]
  },
  {
   "cell_type": "markdown",
   "metadata": {},
   "source": [
    "**Para conseguir extrair os dados decidi quebrar o problema em três partes menores:**\n",
    "1. Dentro da página do instrumento, ou seja a URL do item, conseguir extrair todas as informações desejadas (Nome, marca, preço, etc.)\n",
    "2. Dentro da página de uma categoria (baixo, guitarra, violão), conseguir extrair as URLs de todos os produtos\n",
    "3. Conseguir percorrer todas as páginas de uma categoria qualquer, pois para determinada categoria de instrumento podem existir mais de uma página com itens.\n",
    "\n",
    "**Serão criadas duas funções para cada site** <br>\n",
    "`get_item` --> Extrair todas as informações de cada URL (item) <br>\n",
    "`get_urls` --> Percorrer todas as páginas e extrair todas as URLs\n",
    "\n",
    "<hr>\n",
    "\n",
    "**Informações que serão extraídas:** <br>\n",
    "Instrumentos: **Contrabaixo, Guitarra e Violão**\n",
    "\n",
    "1. Nome\n",
    "2. Marca\n",
    "3. Preço total\n",
    "4. Máximo número de parcelas\n",
    "5. Preço com desconto a vista\n",
    "6. Link da imagem\n",
    "7. Descrição\n",
    "8. Loja"
   ]
  },
  {
   "cell_type": "markdown",
   "metadata": {},
   "source": [
    "## 2.0 Imports"
   ]
  },
  {
   "cell_type": "markdown",
   "metadata": {},
   "source": [
    "Importanto as bibliotecas necessárias. <br>\n",
    "**Importante!** Para conseguir rodar o Selenium é necessário instalar o webdriver compatível com seu navegador, neste notebook estou utilizando Google Chrome rodando no Windows. Sem o webdriver não será possíver rodar o código mais adiante, na parte onde criei a variável \"driver\"."
   ]
  },
  {
   "cell_type": "code",
   "execution_count": 1,
   "metadata": {
    "ExecuteTime": {
     "end_time": "2020-11-24T19:58:45.817340Z",
     "start_time": "2020-11-24T19:58:41.948399Z"
    }
   },
   "outputs": [],
   "source": [
    "#Acessar as páginas \n",
    "import requests\n",
    "\n",
    "#Beautiful Soup para Web Scraping\n",
    "from bs4 import BeautifulSoup as bs\n",
    "\n",
    "#Pandas para criar o DataFrame\n",
    "import pandas as pd\n",
    "\n",
    "#Regex\n",
    "import re\n",
    "\n",
    "#Funções matemáticas\n",
    "import math\n",
    "\n",
    "#Para atrasar a execução de alguns comandos\n",
    "import time\n",
    "\n",
    "#Selenium para conseguirmos lidar com animações nas páginas\n",
    "from selenium import webdriver\n",
    "from selenium.webdriver.common.keys import Keys\n",
    "\n",
    "#Impede que o Selenium abra uma nova janela\n",
    "op = webdriver.ChromeOptions()\n",
    "op.add_argument(\"headless\")"
   ]
  },
  {
   "cell_type": "markdown",
   "metadata": {},
   "source": [
    "## 3.0 Tango Music"
   ]
  },
  {
   "cell_type": "markdown",
   "metadata": {},
   "source": [
    "### 3.1 Informações do item"
   ]
  },
  {
   "cell_type": "code",
   "execution_count": 2,
   "metadata": {
    "ExecuteTime": {
     "end_time": "2020-11-23T21:17:03.773953Z",
     "start_time": "2020-11-23T21:17:03.762950Z"
    }
   },
   "outputs": [],
   "source": [
    "def tango_get_item(url_list):\n",
    "    \n",
    "    '''Recebe uma lista de urls de itens do site Tango e retorna uma lista de dicionários \n",
    "    com as informações de cada instrumento. O resultado pode ser facilmente convertido em um DataFrame'''\n",
    "    \n",
    "    item_dict_list = []\n",
    "    \n",
    "    for url in url_list:\n",
    "        \n",
    "        #Carregando a página e convertendo para um objeto Beautiful Soup  \n",
    "        r = requests.get(url)\n",
    "        instrument = bs(r.content)\n",
    "\n",
    "        item_dict = {}\n",
    "\n",
    "        #1 de 8 - Nome\n",
    "        item_dict[\"Name\"] = instrument.find(\"h1\", {\"class\":\"prod_title color1 hidden-sm hidden-xs\"}).div.get_text()\n",
    "\n",
    "        #2 de 8 - Marca\n",
    "        item_dict[\"Brand\"] = instrument.find(\"div\", {\"class\":\"prod_info\"}).a.get_text()\n",
    "\n",
    "        #3 de 8 - Preço total\n",
    "        #Checando se existe preço para o produto\n",
    "        if instrument.find(\"strong\", {\"class\":\"skuBestPrice\"}) == None:\n",
    "            item_dict[\"Total_Price\"] = \"Sku_Indisponível\"\n",
    "\n",
    "        else:\n",
    "            total_price = instrument.find(\"strong\", {\"class\":\"skuBestPrice\"}).get_text()\n",
    "            total_price = total_price.replace(\"R$\",\"\").replace('.','').replace(',','.').strip()\n",
    "            item_dict[\"Total_Price\"] = total_price\n",
    "\n",
    "        #4 de 8 Número máximo de parcelas\n",
    "        #Checando se a informação existe para o produto\n",
    "        if instrument.find(\"label\", {\"class\":\"skuBestInstallmentNumber\"}) == None:\n",
    "            item_dict[\"Number_Installments\"] = \"NaN\"\n",
    "\n",
    "        else:\n",
    "            item_dict[\"Number_Installments\"] = instrument.find(\"label\", {\"class\":\"skuBestInstallmentNumber\"}).get_text()\n",
    "\n",
    "        #5 de 8 Preço à vista -- Este site não oferece desconto à vista =(\n",
    "        item_dict[\"Cash_Price\"] = \"NaN\"\n",
    "\n",
    "        #6 de 8 URL da imagem do produto\n",
    "        item_dict[\"Image_Url\"] = instrument.find(\"a\", {\"class\":\"image-zoom\"}).get(\"href\")\n",
    "\n",
    "        #7 de 8 Descrição do produto\n",
    "        item_dict[\"Description\"] = instrument.find(\"div\", {\"class\":\"productDescription\"}).get_text()\n",
    "\n",
    "        #8 de 8 Nome da loja\n",
    "        item_dict[\"Store\"] = instrument.find(\"h1\", {\"class\":\"logo\"}).get_text()\n",
    "\n",
    "        #Adicionando o dicionário à lista\n",
    "        item_dict_list.append(item_dict)\n",
    "        \n",
    "    return item_dict_list"
   ]
  },
  {
   "cell_type": "markdown",
   "metadata": {},
   "source": [
    "### 3.2 Buscando as URLs"
   ]
  },
  {
   "cell_type": "markdown",
   "metadata": {},
   "source": [
    "**A parte abaixo teve dois desafios interessantes** <br>\n",
    "\n",
    "**1) A classe do html varia de acordo com a categoria do instrumento.** <br>\n",
    "Na linha 19, foi preciso deixar a categoria como variável para que o código funcionasse para qualquer instrumento. Por exemplo, caso deixasse `cordas` como padrão, ao passar a url da página de bateria teríamos um erro já que baterias ficam na categoria `percussão` \n",
    "\n",
    "**2) A atualização depois do carregamento da página.** <br>\n",
    "Abrindo a página apenas usando `request` como foi feito nas linhas acima sempre resultava com os instrumentos da primeira página. Isso acontecia porque, mesmo passando uma nova página na URL, primeiro a página carrega os instrumentos do primeiro resultado para em seguida atualizar com os valores reais da página. Tentei algumas soluções com o `time.sleep` sozinho e acabou não funcionando. \n",
    "\n",
    "A solução foi utilizar o pacote **Selenium** para primeiro carregar a página, esperar **5 segundos** para atualizar as informações e só então enviar o html para o Beautiful Soup realizar o Scrapping."
   ]
  },
  {
   "cell_type": "code",
   "execution_count": 3,
   "metadata": {
    "ExecuteTime": {
     "end_time": "2020-11-23T21:18:32.164755Z",
     "start_time": "2020-11-23T21:18:32.156809Z"
    }
   },
   "outputs": [],
   "source": [
    "def tango_get_urls(pages_url):\n",
    "    \n",
    "    '''Recebe uma url de categoria como 'https://www.tangomusic.com.br/teclado/teclado?PS=40' \n",
    "    e retorna as urls dos produtos de todas as páginas daquela categoria'''\n",
    "    \n",
    "    url_list = []\n",
    "    \n",
    "    #Estrutura da url\n",
    "    pages_url = pages_url + \"#01\"\n",
    "    \n",
    "    #Categoria do instrumento\n",
    "    category = pages_url.split(\"/\")[-2]\n",
    "\n",
    "    #Carregando a página e convertendo para um objeto Beautiful Soup\n",
    "    r = requests.get(pages_url)\n",
    "    new_url = bs(r.content)\n",
    "\n",
    "    #Número total de instrumentos\n",
    "    total_instruments = new_url.find(\"h4\", {\"class\":category + \" even\"}).get_text()\n",
    "\n",
    "    #Usando regex para pegar o número entre parênteses\n",
    "    total_instruments = re.search(r'\\((.*?)\\)',total_instruments).group(1)\n",
    "\n",
    "    #Temos 40 instrumentos por página\n",
    "    total_pages = math.ceil(int(total_instruments)/40)\n",
    "\n",
    "    print(\"Total instruments: {}\".format(total_instruments))\n",
    "    print(\"Number of pages: {}\".format(total_pages))\n",
    "\n",
    "    #Buscando todas urls\n",
    "    for i in range(1, total_pages+1):\n",
    "\n",
    "        #Estrutura da url para diferentes páginas\n",
    "        pages_url = pages_url[:-1] + str(i)\n",
    "\n",
    "        #Carrega a página\n",
    "        driver = webdriver.Chrome(executable_path =\"chromedriver\", options = op)\n",
    "        driver.get(pages_url)   \n",
    "\n",
    "        #Espera 5 segundos para carregar completamente\n",
    "        time.sleep(5)\n",
    "    \n",
    "        #Código fonte da página que será enviado ao Beautiful Soup\n",
    "        page_source = driver.page_source\n",
    "\n",
    "        #Converte para um objeto Beautiful Soup\n",
    "        instrument_url = bs(page_source, \"lxml\")\n",
    "\n",
    "        #Imprime a página atual\n",
    "        print(pages_url)\n",
    "\n",
    "        #Lista de instrumentos da página atual\n",
    "        for i in instrument_url.find_all(\"div\", {\"class\":\"prod_wrapper\"}):\n",
    "            url_list.append(i.a.get(\"href\"))\n",
    "\n",
    "    print(\"-----------------\")\n",
    "    \n",
    "    return url_list"
   ]
  },
  {
   "cell_type": "markdown",
   "metadata": {},
   "source": [
    "### 3.3 Buscando todos os baixos, guitarras e violões e convertendo para um DataFrame\n",
    "Com as funções definidas, vamos aplicá-las para conseguir extrair os dados! "
   ]
  },
  {
   "cell_type": "code",
   "execution_count": 4,
   "metadata": {
    "ExecuteTime": {
     "end_time": "2020-11-23T21:39:32.275404Z",
     "start_time": "2020-11-23T21:19:25.273163Z"
    }
   },
   "outputs": [
    {
     "name": "stdout",
     "output_type": "stream",
     "text": [
      "Total instruments: 95\n",
      "Number of pages: 3\n",
      "https://www.tangomusic.com.br/cordas/contrabaixo?PS=40#01\n",
      "https://www.tangomusic.com.br/cordas/contrabaixo?PS=40#02\n",
      "https://www.tangomusic.com.br/cordas/contrabaixo?PS=40#03\n",
      "-----------------\n",
      "Total instruments: 274\n",
      "Number of pages: 7\n",
      "https://www.tangomusic.com.br/cordas/violao?PS=40#01\n",
      "https://www.tangomusic.com.br/cordas/violao?PS=40#02\n",
      "https://www.tangomusic.com.br/cordas/violao?PS=40#03\n",
      "https://www.tangomusic.com.br/cordas/violao?PS=40#04\n",
      "https://www.tangomusic.com.br/cordas/violao?PS=40#05\n",
      "https://www.tangomusic.com.br/cordas/violao?PS=40#06\n",
      "https://www.tangomusic.com.br/cordas/violao?PS=40#07\n",
      "-----------------\n",
      "Total instruments: 210\n",
      "Number of pages: 6\n",
      "https://www.tangomusic.com.br/cordas/guitarra?PS=40#01\n",
      "https://www.tangomusic.com.br/cordas/guitarra?PS=40#02\n",
      "https://www.tangomusic.com.br/cordas/guitarra?PS=40#03\n",
      "https://www.tangomusic.com.br/cordas/guitarra?PS=40#04\n",
      "https://www.tangomusic.com.br/cordas/guitarra?PS=40#05\n",
      "https://www.tangomusic.com.br/cordas/guitarra?PS=40#06\n",
      "-----------------\n"
     ]
    }
   ],
   "source": [
    "#Buscando as urls\n",
    "tango_bass_urls = tango_get_urls(\"https://www.tangomusic.com.br/cordas/contrabaixo?PS=40\")\n",
    "tango_acoustic_guitar_urls = tango_get_urls(\"https://www.tangomusic.com.br/cordas/violao?PS=40\")\n",
    "tango_electric_guitar_urls = tango_get_urls(\"https://www.tangomusic.com.br/cordas/guitarra?PS=40\")\n",
    "\n",
    "#Buscando as informações dos itens\n",
    "tango_bass_info = tango_get_item(tango_bass_urls)\n",
    "tango_acoustic_guitar_info = tango_get_item(tango_acoustic_guitar_urls)\n",
    "tango_electric_guitar_info = tango_get_item(tango_electric_guitar_urls)\n",
    "\n",
    "#Criando o DataFrame\n",
    "tango_bass_df = pd.DataFrame(tango_bass_info)\n",
    "tango_acoustic_guitar_df = pd.DataFrame(tango_acoustic_guitar_info)\n",
    "tango_electric_guitar_df = pd.DataFrame(tango_electric_guitar_info)"
   ]
  },
  {
   "cell_type": "code",
   "execution_count": 5,
   "metadata": {
    "ExecuteTime": {
     "end_time": "2020-11-23T21:39:32.332955Z",
     "start_time": "2020-11-23T21:39:32.277102Z"
    }
   },
   "outputs": [
    {
     "name": "stdout",
     "output_type": "stream",
     "text": [
      "(95, 8)\n",
      "False    95\n",
      "dtype: int64 \n",
      "\n",
      "(274, 8)\n",
      "False    274\n",
      "dtype: int64 \n",
      "\n",
      "(210, 8)\n",
      "False    210\n",
      "dtype: int64 \n",
      "\n"
     ]
    }
   ],
   "source": [
    "#Checando por valores duplicados\n",
    "dfs = [tango_bass_df, tango_acoustic_guitar_df, tango_electric_guitar_df]\n",
    "\n",
    "for i in dfs:\n",
    "    print(i.shape)\n",
    "    print(i.duplicated().value_counts(), \"\\n\")"
   ]
  },
  {
   "cell_type": "code",
   "execution_count": 6,
   "metadata": {
    "ExecuteTime": {
     "end_time": "2020-11-23T21:39:32.367901Z",
     "start_time": "2020-11-23T21:39:32.333952Z"
    }
   },
   "outputs": [
    {
     "name": "stdout",
     "output_type": "stream",
     "text": [
      "(579, 8)\n"
     ]
    },
    {
     "data": {
      "text/html": [
       "<div>\n",
       "<style scoped>\n",
       "    .dataframe tbody tr th:only-of-type {\n",
       "        vertical-align: middle;\n",
       "    }\n",
       "\n",
       "    .dataframe tbody tr th {\n",
       "        vertical-align: top;\n",
       "    }\n",
       "\n",
       "    .dataframe thead th {\n",
       "        text-align: right;\n",
       "    }\n",
       "</style>\n",
       "<table border=\"1\" class=\"dataframe\">\n",
       "  <thead>\n",
       "    <tr style=\"text-align: right;\">\n",
       "      <th></th>\n",
       "      <th>Name</th>\n",
       "      <th>Brand</th>\n",
       "      <th>Total_Price</th>\n",
       "      <th>Number_Installments</th>\n",
       "      <th>Cash_Price</th>\n",
       "      <th>Image_Url</th>\n",
       "      <th>Description</th>\n",
       "      <th>Store</th>\n",
       "    </tr>\n",
       "  </thead>\n",
       "  <tbody>\n",
       "    <tr>\n",
       "      <th>168</th>\n",
       "      <td>VIOLAO TAGIMA MONTANA TUNER BK - PRETO</td>\n",
       "      <td>TAGIMA</td>\n",
       "      <td>1089.00</td>\n",
       "      <td>12</td>\n",
       "      <td>NaN</td>\n",
       "      <td>https://tangomusic.vteximg.com.br/ar...</td>\n",
       "      <td>VIOLÃO AÇO TUNERBRAÇO / MahoganyTAMP...</td>\n",
       "      <td>Tango Music</td>\n",
       "    </tr>\n",
       "    <tr>\n",
       "      <th>121</th>\n",
       "      <td>GUITARRA STRINBERG CLG55 BK</td>\n",
       "      <td>STRINBERG</td>\n",
       "      <td>1099.00</td>\n",
       "      <td>12</td>\n",
       "      <td>NaN</td>\n",
       "      <td>https://tangomusic.vteximg.com.br/ar...</td>\n",
       "      <td>Especificações Técnicas:- Corpo: Bas...</td>\n",
       "      <td>Tango Music</td>\n",
       "    </tr>\n",
       "    <tr>\n",
       "      <th>144</th>\n",
       "      <td>GUITARRA TAGIMA T 635 CLASSIC ESCALA...</td>\n",
       "      <td>TAGIMA</td>\n",
       "      <td>1539.00</td>\n",
       "      <td>12</td>\n",
       "      <td>NaN</td>\n",
       "      <td>https://tangomusic.vteximg.com.br/ar...</td>\n",
       "      <td>T-635 Guitarra TagimaEspecificações:...</td>\n",
       "      <td>Tango Music</td>\n",
       "    </tr>\n",
       "    <tr>\n",
       "      <th>41</th>\n",
       "      <td>GUITARRA GIBSON LES PAUL JUNIOR VINT...</td>\n",
       "      <td>GIBSON</td>\n",
       "      <td>14115.00</td>\n",
       "      <td>12</td>\n",
       "      <td>NaN</td>\n",
       "      <td>https://tangomusic.vteximg.com.br/ar...</td>\n",
       "      <td>Gibson Les Paul Junior Vintage Tobac...</td>\n",
       "      <td>Tango Music</td>\n",
       "    </tr>\n",
       "    <tr>\n",
       "      <th>38</th>\n",
       "      <td>CONTRABAIXO 4C FENDER STANDARD DIMEN...</td>\n",
       "      <td>FENDER</td>\n",
       "      <td>6240.00</td>\n",
       "      <td>12</td>\n",
       "      <td>NaN</td>\n",
       "      <td>https://tangomusic.vteximg.com.br/ar...</td>\n",
       "      <td>A série Standard recebe seu primeiro...</td>\n",
       "      <td>Tango Music</td>\n",
       "    </tr>\n",
       "  </tbody>\n",
       "</table>\n",
       "</div>"
      ],
      "text/plain": [
       "                                        Name      Brand Total_Price  \\\n",
       "168   VIOLAO TAGIMA MONTANA TUNER BK - PRETO     TAGIMA     1089.00   \n",
       "121              GUITARRA STRINBERG CLG55 BK  STRINBERG     1099.00   \n",
       "144  GUITARRA TAGIMA T 635 CLASSIC ESCALA...     TAGIMA     1539.00   \n",
       "41   GUITARRA GIBSON LES PAUL JUNIOR VINT...     GIBSON    14115.00   \n",
       "38   CONTRABAIXO 4C FENDER STANDARD DIMEN...     FENDER     6240.00   \n",
       "\n",
       "    Number_Installments Cash_Price                                Image_Url  \\\n",
       "168                  12        NaN  https://tangomusic.vteximg.com.br/ar...   \n",
       "121                  12        NaN  https://tangomusic.vteximg.com.br/ar...   \n",
       "144                  12        NaN  https://tangomusic.vteximg.com.br/ar...   \n",
       "41                   12        NaN  https://tangomusic.vteximg.com.br/ar...   \n",
       "38                   12        NaN  https://tangomusic.vteximg.com.br/ar...   \n",
       "\n",
       "                                 Description        Store  \n",
       "168  VIOLÃO AÇO TUNERBRAÇO / MahoganyTAMP...  Tango Music  \n",
       "121  Especificações Técnicas:- Corpo: Bas...  Tango Music  \n",
       "144  T-635 Guitarra TagimaEspecificações:...  Tango Music  \n",
       "41   Gibson Les Paul Junior Vintage Tobac...  Tango Music  \n",
       "38   A série Standard recebe seu primeiro...  Tango Music  "
      ]
     },
     "execution_count": 6,
     "metadata": {},
     "output_type": "execute_result"
    }
   ],
   "source": [
    "#Juntando os três DataFrames em um só\n",
    "\n",
    "#Ajustando o tamanho das colunas\n",
    "pd.set_option('max_colwidth', 40)\n",
    "\n",
    "#Juntando os DataFrames e imprimindo uma amostra dos dados\n",
    "tango_df = pd.DataFrame()\n",
    "tango_df = tango_df.append([tango_bass_df, tango_electric_guitar_df, tango_acoustic_guitar_df])\n",
    "\n",
    "print(tango_df.shape)\n",
    "\n",
    "tango_df.sample(5)"
   ]
  },
  {
   "cell_type": "markdown",
   "metadata": {},
   "source": [
    "## 4.0 Made in Brazil "
   ]
  },
  {
   "cell_type": "markdown",
   "metadata": {},
   "source": [
    "### 4.1 Informações do item"
   ]
  },
  {
   "cell_type": "markdown",
   "metadata": {},
   "source": [
    "**Aqui tivemos uma situação interessante com as imagens.** <br>\n",
    "\n",
    "Extraindo diretamente da página do instrumento resultava em uma imagem bastante pequena. Pela própria url `https://madeinbrazil.fbitsstatic.net/img/p/contrabaixo-4-cordas-tbm-4-serie-classic-tagima-preto-bk-69519/256002-1.jpg?w=120&h=120&v=no-change` é possível ver que temos a largura (width, w) e altura (height, h) por padrão igual a 120. \n",
    "\n",
    "No código simplesmente selecionei este pedaço da string e alterei os valores para 1000, resultando em uma imagem com tamanho maior! "
   ]
  },
  {
   "cell_type": "code",
   "execution_count": 2,
   "metadata": {
    "ExecuteTime": {
     "end_time": "2020-11-24T19:58:51.022353Z",
     "start_time": "2020-11-24T19:58:51.009413Z"
    }
   },
   "outputs": [],
   "source": [
    "def made_in_brazil_get_item(url_list):\n",
    "    \n",
    "    '''Recebe uma lista de urls de itens do site Made in Brazil e retorna uma lista de dicionários \n",
    "    com as informações de cada instrumento. O resultado pode ser facilmente convertido em um DataFrame'''\n",
    "    \n",
    "    item_dict_list = []\n",
    "    \n",
    "    for url in url_list:\n",
    "        \n",
    "        #Carregando a página e convertendo para um objeto Beautiful Soup\n",
    "        r = requests.get(url)\n",
    "        instrument = bs(r.content)\n",
    "\n",
    "        item_dict = {}\n",
    "\n",
    "        #1 de 8 - Nome\n",
    "        item_dict[\"Name\"] = instrument.find(\"h1\", {\"class\":\"fbits-produto-nome prodTitle title\"}).get_text()[2:]\n",
    "        \n",
    "        #2 de 8 - Marca\n",
    "        #Checando se existe a informação de marca\n",
    "        if instrument.find(\"div\", {\"class\":\"fbits-fabricante-logo logo-fabricante\"}) == None:\n",
    "            item_dict[\"Brand\"] = \"NaN\"\n",
    "        \n",
    "        else:\n",
    "            item_dict[\"Brand\"] = instrument.find(\"div\", {\"class\":\"fbits-fabricante-logo logo-fabricante\"}).a.img.get(\"title\")\n",
    "\n",
    "        #3 de 8 - Preço total\n",
    "        total_price = instrument.find(\"div\", {\"class\":\"precoPor\"}).get_text()\n",
    "        total_price = total_price.replace(\"R$\",\"\").replace('.','').replace(',','.').strip()\n",
    "        item_dict[\"Total_Price\"] = total_price\n",
    "\n",
    "        #4 de 8 Número máximo de parcelas\n",
    "        item_dict[\"Number_Installments\"] = instrument.find(\"span\", {\"class\":\"fbits-quantidadeParcelas\"}).get_text()\n",
    "       \n",
    "        #5 de 8 Preço à vista\n",
    "        cash_price = instrument.find(\"span\", {\"class\":\"fbits-boleto-preco\"}).get_text()\n",
    "        cash_price = cash_price.replace(\"R$\",\"\").replace('.','').replace(',','.').strip()\n",
    "        item_dict[\"Cash_Price\"] = cash_price\n",
    "\n",
    "        #6 de 8 URL da imagem do produto\n",
    "        image_url = instrument.find(\"div\", {\"class\":\"jcarousel\"}).img.get(\"src\").split(\"=\")\n",
    "\n",
    "        #Como a imagem extraída era muito pequena, vamos aumentar suas dimensões pela url\n",
    "        image_url[1] = \"1000&h\"\n",
    "        image_url[2] = \"1000&v\"\n",
    "\n",
    "        #Checando se a imagem existe\n",
    "        if \"\".join(image_url).split(\"/\")[5] == \"produto-nao-possui-foto-no-momento\":\n",
    "            item_dict[\"Image_Url\"] = \"NaN\"\n",
    "\n",
    "        else:\n",
    "            item_dict[\"Image_Url\"] = \"\".join(image_url)\n",
    "        \n",
    "        #7 de 8 Descrição do produto\n",
    "        #Checando se existe descrição para o produto\n",
    "        if instrument.find(\"div\", {\"class\":\"paddingbox\"}) == None:\n",
    "            item_dict[\"Description\"] = \"NaN\"\n",
    "\n",
    "        else:\n",
    "            item_dict[\"Description\"] = instrument.find(\"div\", {\"class\":\"paddingbox\"}).get_text().replace(\"\\n\",\"\")\n",
    "            \n",
    "        #8 de 8 Nome da loja\n",
    "        item_dict[\"Store\"] = instrument.find(\"i\", {\"class\":\"logotipo-footer\"}).get_text()[:14]\n",
    "\n",
    "        #Adicionando o dicionário à lista\n",
    "        item_dict_list.append(item_dict)\n",
    "        \n",
    "    return item_dict_list"
   ]
  },
  {
   "cell_type": "markdown",
   "metadata": {},
   "source": [
    "### 4.2 Buscando as URLs"
   ]
  },
  {
   "cell_type": "markdown",
   "metadata": {},
   "source": [
    "Sem maiores desafios aqui, já que cada página tem uma url específica carregando apenas os instrumentos daquela exibição"
   ]
  },
  {
   "cell_type": "code",
   "execution_count": 3,
   "metadata": {
    "ExecuteTime": {
     "end_time": "2020-11-24T19:58:53.361789Z",
     "start_time": "2020-11-24T19:58:53.354834Z"
    }
   },
   "outputs": [],
   "source": [
    "def made_in_brazil_get_urls(pages_url):\n",
    "    \n",
    "    '''Recebe uma url de categoria como 'https://www.madeinbrazil.com.br/cordas-e-acessorios/contrabaixo' \n",
    "    e retorna as urls dos produtos de todas as páginas daquela categoria'''\n",
    "    \n",
    "    url_list = []\n",
    "    \n",
    "    #Estrutura da url\n",
    "    pages_url = pages_url + \"?pagina=01\"\n",
    "    \n",
    "    #Carregando a página e convertendo para um objeto Beautiful Soup\n",
    "    r = requests.get(pages_url)\n",
    "    new_url = bs(r.content)\n",
    "\n",
    "    #Número total de instrumentos\n",
    "    total_instruments = new_url.find(\"div\", {\"class\": \"mostrando left fbits-info-bottom\"}).span.get_text()\n",
    "\n",
    "    #Usando regex para pegar apenas o número\n",
    "    total_instruments = re.search(r'\\d+',total_instruments).group(0)\n",
    "\n",
    "    #Temos 40 instrumentos por página\n",
    "    total_pages = math.ceil(int(total_instruments)/40)\n",
    "\n",
    "    print(\"Total instruments: {}\".format(total_instruments))\n",
    "    print(\"Number of pages: {}\".format(total_pages))\n",
    "\n",
    "    #Buscando todas urls\n",
    "    for i in range(1, total_pages+1):\n",
    "\n",
    "        #Estrutura da url para diferentes páginas\n",
    "        pages_url = pages_url[:-1] + str(i)\n",
    "\n",
    "        #Carregando a página e convertendo para um objeto Beautiful Soup\n",
    "        r = requests.get(pages_url)\n",
    "        instrument_url = bs(r.content)\n",
    "    \n",
    "        #Imprime a página atual\n",
    "        print(pages_url)\n",
    "    \n",
    "        #Lista de instrumentos da página atual\n",
    "        for i in instrument_url.find_all(\"a\", {\"class\":\"spot-parte-um\"}):\n",
    "            url_list.append(\"https://www.madeinbrazil.com.br/\" + i.get(\"href\"))\n",
    "\n",
    "    print(\"-----------------\")\n",
    "    \n",
    "    return url_list"
   ]
  },
  {
   "cell_type": "markdown",
   "metadata": {},
   "source": [
    "### 4.3 Buscando todos os baixos, guitarras e violões e convertendo para um DataFrame\n",
    "Aplicando as funções para extrair os dados =) "
   ]
  },
  {
   "cell_type": "code",
   "execution_count": 4,
   "metadata": {
    "ExecuteTime": {
     "end_time": "2020-11-24T20:00:00.197752Z",
     "start_time": "2020-11-24T19:58:55.275140Z"
    }
   },
   "outputs": [
    {
     "name": "stdout",
     "output_type": "stream",
     "text": [
      "Total instruments: 16\n",
      "Number of pages: 1\n",
      "https://www.madeinbrazil.com.br/cordas-e-acessorios/contrabaixo?pagina=01\n",
      "-----------------\n",
      "Total instruments: 84\n",
      "Number of pages: 3\n",
      "https://www.madeinbrazil.com.br/cordas-e-acessorios/violao-eletroacustico?pagina=01\n",
      "https://www.madeinbrazil.com.br/cordas-e-acessorios/violao-eletroacustico?pagina=02\n",
      "https://www.madeinbrazil.com.br/cordas-e-acessorios/violao-eletroacustico?pagina=03\n",
      "-----------------\n",
      "Total instruments: 62\n",
      "Number of pages: 2\n",
      "https://www.madeinbrazil.com.br/cordas-e-acessorios/guitarra?pagina=01\n",
      "https://www.madeinbrazil.com.br/cordas-e-acessorios/guitarra?pagina=02\n",
      "-----------------\n"
     ]
    }
   ],
   "source": [
    "#Buscando as urls\n",
    "made_in_brazil_bass_urls = made_in_brazil_get_urls(\"https://www.madeinbrazil.com.br/cordas-e-acessorios/contrabaixo\")\n",
    "made_in_brazil_acoustic_guitar_urls = made_in_brazil_get_urls(\"https://www.madeinbrazil.com.br/cordas-e-acessorios/violao-eletroacustico\")\n",
    "made_in_brazil_electric_guitar_urls = made_in_brazil_get_urls(\"https://www.madeinbrazil.com.br/cordas-e-acessorios/guitarra\")\n",
    "\n",
    "#Buscando as informações dos itens\n",
    "made_in_brazil_bass_info = made_in_brazil_get_item(made_in_brazil_bass_urls)\n",
    "made_in_brazil_acoustic_guitar_info = made_in_brazil_get_item(made_in_brazil_acoustic_guitar_urls)\n",
    "made_in_brazil_electric_guitar_info = made_in_brazil_get_item(made_in_brazil_electric_guitar_urls)\n",
    "\n",
    "#Criando o DataFrame\n",
    "made_in_brazil_bass_df = pd.DataFrame(made_in_brazil_bass_info)\n",
    "made_in_brazil_acoustic_guitar_df = pd.DataFrame(made_in_brazil_acoustic_guitar_info)\n",
    "made_in_brazil_electric_guitar_df = pd.DataFrame(made_in_brazil_electric_guitar_info)"
   ]
  },
  {
   "cell_type": "code",
   "execution_count": 5,
   "metadata": {
    "ExecuteTime": {
     "end_time": "2020-11-24T20:00:00.217495Z",
     "start_time": "2020-11-24T20:00:00.199542Z"
    }
   },
   "outputs": [
    {
     "name": "stdout",
     "output_type": "stream",
     "text": [
      "(16, 8)\n",
      "False    16\n",
      "dtype: int64 \n",
      "\n",
      "(84, 8)\n",
      "False    84\n",
      "dtype: int64 \n",
      "\n",
      "(62, 8)\n",
      "False    62\n",
      "dtype: int64 \n",
      "\n"
     ]
    }
   ],
   "source": [
    "#Checando por valores duplicados\n",
    "dfs = [made_in_brazil_bass_df, made_in_brazil_acoustic_guitar_df, made_in_brazil_electric_guitar_df]\n",
    "\n",
    "for i in dfs:\n",
    "    print(i.shape)\n",
    "    print(i.duplicated().value_counts(), \"\\n\")"
   ]
  },
  {
   "cell_type": "code",
   "execution_count": 6,
   "metadata": {
    "ExecuteTime": {
     "end_time": "2020-11-24T20:00:00.255433Z",
     "start_time": "2020-11-24T20:00:00.219490Z"
    }
   },
   "outputs": [
    {
     "name": "stdout",
     "output_type": "stream",
     "text": [
      "(162, 8)\n"
     ]
    },
    {
     "data": {
      "text/html": [
       "<div>\n",
       "<style scoped>\n",
       "    .dataframe tbody tr th:only-of-type {\n",
       "        vertical-align: middle;\n",
       "    }\n",
       "\n",
       "    .dataframe tbody tr th {\n",
       "        vertical-align: top;\n",
       "    }\n",
       "\n",
       "    .dataframe thead th {\n",
       "        text-align: right;\n",
       "    }\n",
       "</style>\n",
       "<table border=\"1\" class=\"dataframe\">\n",
       "  <thead>\n",
       "    <tr style=\"text-align: right;\">\n",
       "      <th></th>\n",
       "      <th>Name</th>\n",
       "      <th>Brand</th>\n",
       "      <th>Total_Price</th>\n",
       "      <th>Number_Installments</th>\n",
       "      <th>Cash_Price</th>\n",
       "      <th>Image_Url</th>\n",
       "      <th>Description</th>\n",
       "      <th>Store</th>\n",
       "    </tr>\n",
       "  </thead>\n",
       "  <tbody>\n",
       "    <tr>\n",
       "      <th>2</th>\n",
       "      <td>Violão Folk Aço TW 25 Elétrico Dread...</td>\n",
       "      <td>TAGIMA</td>\n",
       "      <td>1069.00</td>\n",
       "      <td>10</td>\n",
       "      <td>962.10</td>\n",
       "      <td>https://madeinbrazil.fbitsstatic.net...</td>\n",
       "      <td>O  Tagima TW25 é um violão que tem d...</td>\n",
       "      <td>Made in Brazil</td>\n",
       "    </tr>\n",
       "    <tr>\n",
       "      <th>45</th>\n",
       "      <td>Violão Aço Montana Elétrico Série Am...</td>\n",
       "      <td>TAGIMA</td>\n",
       "      <td>1349.00</td>\n",
       "      <td>10</td>\n",
       "      <td>1214.10</td>\n",
       "      <td>https://madeinbrazil.fbitsstatic.net...</td>\n",
       "      <td>O violão Tagima Montana traz um desi...</td>\n",
       "      <td>Made in Brazil</td>\n",
       "    </tr>\n",
       "    <tr>\n",
       "      <th>3</th>\n",
       "      <td>Contrabaixo Fretless Vintage Modifie...</td>\n",
       "      <td>SQUIER BY FENDER</td>\n",
       "      <td>3990.00</td>\n",
       "      <td>10</td>\n",
       "      <td>3591.00</td>\n",
       "      <td>https://madeinbrazil.fbitsstatic.net...</td>\n",
       "      <td>Durante anos, os músicos vem fazendo...</td>\n",
       "      <td>Made in Brazil</td>\n",
       "    </tr>\n",
       "    <tr>\n",
       "      <th>7</th>\n",
       "      <td>Contrabaixo Ativo 5 Cordas TBM 5 Sér...</td>\n",
       "      <td>TAGIMA</td>\n",
       "      <td>1999.00</td>\n",
       "      <td>10</td>\n",
       "      <td>1799.10</td>\n",
       "      <td>https://madeinbrazil.fbitsstatic.net...</td>\n",
       "      <td>O baixo Tagima TBM 5 quatro cordas, ...</td>\n",
       "      <td>Made in Brazil</td>\n",
       "    </tr>\n",
       "    <tr>\n",
       "      <th>53</th>\n",
       "      <td>Violão Folk Eletroacústico High Perf...</td>\n",
       "      <td>GIBSON</td>\n",
       "      <td>15790.00</td>\n",
       "      <td>10</td>\n",
       "      <td>14211.00</td>\n",
       "      <td>https://madeinbrazil.fbitsstatic.net...</td>\n",
       "      <td>Esta novidade de 2017 oferece um ino...</td>\n",
       "      <td>Made in Brazil</td>\n",
       "    </tr>\n",
       "  </tbody>\n",
       "</table>\n",
       "</div>"
      ],
      "text/plain": [
       "                                       Name             Brand Total_Price  \\\n",
       "2   Violão Folk Aço TW 25 Elétrico Dread...            TAGIMA     1069.00   \n",
       "45  Violão Aço Montana Elétrico Série Am...            TAGIMA     1349.00   \n",
       "3   Contrabaixo Fretless Vintage Modifie...  SQUIER BY FENDER     3990.00   \n",
       "7   Contrabaixo Ativo 5 Cordas TBM 5 Sér...            TAGIMA     1999.00   \n",
       "53  Violão Folk Eletroacústico High Perf...           GIBSON     15790.00   \n",
       "\n",
       "   Number_Installments Cash_Price                                Image_Url  \\\n",
       "2                   10     962.10  https://madeinbrazil.fbitsstatic.net...   \n",
       "45                  10    1214.10  https://madeinbrazil.fbitsstatic.net...   \n",
       "3                   10    3591.00  https://madeinbrazil.fbitsstatic.net...   \n",
       "7                   10    1799.10  https://madeinbrazil.fbitsstatic.net...   \n",
       "53                  10   14211.00  https://madeinbrazil.fbitsstatic.net...   \n",
       "\n",
       "                                Description           Store  \n",
       "2   O  Tagima TW25 é um violão que tem d...  Made in Brazil  \n",
       "45  O violão Tagima Montana traz um desi...  Made in Brazil  \n",
       "3   Durante anos, os músicos vem fazendo...  Made in Brazil  \n",
       "7   O baixo Tagima TBM 5 quatro cordas, ...  Made in Brazil  \n",
       "53  Esta novidade de 2017 oferece um ino...  Made in Brazil  "
      ]
     },
     "execution_count": 6,
     "metadata": {},
     "output_type": "execute_result"
    }
   ],
   "source": [
    "#Juntando os três DataFrames em um só\n",
    "\n",
    "#Ajustando o tamanho das colunas\n",
    "pd.set_option('max_colwidth', 40)\n",
    "\n",
    "#Juntando os DataFrames e imprimindo uma amostra dos dados\n",
    "made_in_brazil_df = pd.DataFrame()\n",
    "made_in_brazil_df = made_in_brazil_df.append([made_in_brazil_bass_df, made_in_brazil_electric_guitar_df, made_in_brazil_acoustic_guitar_df])\n",
    "\n",
    "print(made_in_brazil_df.shape)\n",
    "\n",
    "made_in_brazil_df.sample(5)"
   ]
  },
  {
   "cell_type": "markdown",
   "metadata": {},
   "source": [
    "## 5.0 Barra Music "
   ]
  },
  {
   "cell_type": "markdown",
   "metadata": {},
   "source": [
    "### 5.1 Informações do item"
   ]
  },
  {
   "cell_type": "code",
   "execution_count": 14,
   "metadata": {
    "ExecuteTime": {
     "end_time": "2020-11-23T21:49:59.253368Z",
     "start_time": "2020-11-23T21:49:59.241398Z"
    }
   },
   "outputs": [],
   "source": [
    "def barra_get_item(url_list):\n",
    "    \n",
    "    ''' Recebe uma lista de urls de itens do site Barra Music e retorna uma lista de dicionários \n",
    "    com as informações de cada instrumento. O resultado pode ser facilmente convertido em um DataFrame'''\n",
    "    \n",
    "    item_dict_list = []\n",
    "    \n",
    "    for url in url_list:\n",
    "          \n",
    "        #Carregando a página e convertendo para um objeto Beautiful Soup    \n",
    "        r = requests.get(url)\n",
    "        instrument = bs(r.content)\n",
    "\n",
    "        item_dict = {}\n",
    "\n",
    "        #1 de 8 - Nome\n",
    "        item_dict[\"Name\"] = instrument.find(\"div\", {\"class\":\"box-nome\"}).h1.get_text()\n",
    "        \n",
    "        #2 de 8 - Marca\n",
    "        #Checando se existe a informação de marca\n",
    "        if instrument.find(\"li\", {\"class\":\"txt-marca\"}).a == None:\n",
    "            item_dict[\"Brand\"] = \"NaN\"\n",
    "            \n",
    "        else:\n",
    "            item_dict[\"Brand\"] = instrument.find(\"li\", {\"class\":\"txt-marca\"}).a.get_text()\n",
    "\n",
    "        #3 de 8 - Preço total\n",
    "        #Checando se existe a informação de preço\n",
    "        if instrument.find(\"li\", {\"class\":\"txt-disponibilidade\"}).get_text() != \"\":\n",
    "            item_dict[\"Total_Price\"] = \"NaN\"\n",
    "        \n",
    "        else:\n",
    "            total_price = instrument.find(\"span\", {\"class\":\"preco-por\"}).span.get_text()\n",
    "            total_price = total_price.replace(\"R$\",\"\").replace('.','').replace(',','.').strip()\n",
    "            item_dict[\"Total_Price\"] = total_price\n",
    "\n",
    "        #4 de 8 Número máximo de parcelas\n",
    "        #Checando se existe a informação de número de parcelas\n",
    "        if instrument.find(\"li\", {\"class\":\"txt-disponibilidade\"}).get_text() != \"\":\n",
    "            item_dict[\"Number_Installments\"] = \"NaN\"\n",
    "            \n",
    "        else:\n",
    "            item_dict[\"Number_Installments\"] = instrument.find(\"span\", {\"class\":\"parcelamento\"}).span.get_text()[:-1]\n",
    "       \n",
    "        #5 de 8 Preço à vista\n",
    "        #Checando se existe a informação de preço à vista\n",
    "        if instrument.find(\"li\", {\"class\":\"txt-disponibilidade\"}).get_text() != \"\":\n",
    "            item_dict[\"Cash_Price\"] = \"NaN\"\n",
    "            \n",
    "        else:\n",
    "            cash_price = instrument.find(\"span\", {\"class\":\"a-vista\"}).span.get_text()\n",
    "            cash_price = cash_price.replace(\"R$\",\"\").replace('.','').replace(',','.').strip()\n",
    "            item_dict[\"Cash_Price\"] = cash_price\n",
    "\n",
    "        #6 de 8 URL da imagem do produto\n",
    "        item_dict[\"Image_Url\"] = instrument.find(\"div\", {\"id\":\"slider\"}).a.get(\"href\")\n",
    "        \n",
    "        #7 de 8 Descrição do produto\n",
    "        item_dict[\"Description\"] = instrument.find(\"div\", {\"class\":\"box-descricao-curta\"}).get_text().strip()\n",
    "            \n",
    "        #8 de 8 Nome da loja\n",
    "        item_dict[\"Store\"] = instrument.find(\"li\", {\"data-id\":\"26\"}).get_text().split(\" \")[1]\n",
    "\n",
    "        #Adicionando o dicionário à lista\n",
    "        item_dict_list.append(item_dict)\n",
    "        \n",
    "    return item_dict_list"
   ]
  },
  {
   "cell_type": "markdown",
   "metadata": {},
   "source": [
    "### 5.2 Buscando as URLs "
   ]
  },
  {
   "cell_type": "markdown",
   "metadata": {},
   "source": [
    "**Temos novidades nesta página ._.** <br>\n",
    "\n",
    "Abrindo a página usando `request` consegui apenas os 15 primeiros instrumentos, exibição padrão da página. Para exibir mais instrumentos é preciso selecionar manualmente no filtro da página porém **a url não é atualizada**, ou seja, não conseguimos obter todos os instrumentos de determinada categoria utilizando apenas Beautiful Soup. =/\n",
    "\n",
    "Contei novamente com o apoio do **Selenium** para que primeiro fosse alterado o filtro de exibição para `Todos` mostrando todos os instrumentos, e só em seguida realizar a extração das URLs uma vez que o HTML tenha sido atualizado \n",
    "\n",
    "Um detalhe interessante, tentei localizar o menu através da `class` e não estava retornando nenhuma informação. O jeito foi usar o `Xpath` do menu para direcionar especificamente para aquele campo e fazer as alterações. Aí deu certo! "
   ]
  },
  {
   "cell_type": "code",
   "execution_count": 15,
   "metadata": {
    "ExecuteTime": {
     "end_time": "2020-11-23T21:50:06.538533Z",
     "start_time": "2020-11-23T21:50:06.532568Z"
    },
    "code_folding": []
   },
   "outputs": [],
   "source": [
    "def barra_get_urls(pages_url):\n",
    "    \n",
    "    '''Recebe uma url de categoria como 'https://www.barramusic.com.br/categoria/cordas-guitarras/35143'\n",
    "    e retorna as urls dos produtos de todas as páginas daquela categoria'''\n",
    "    \n",
    "    url_list = []\n",
    "    \n",
    "    #Carrega a página\n",
    "    driver = webdriver.Chrome(executable_path =\"chromedriver\", options = op)\n",
    "    driver.get(pages_url)\n",
    "\n",
    "    #Localiza o filtro de itens por página\n",
    "    search = driver.find_element_by_xpath('''//*[@id=\"pagina-listaprodutos\"]/div[2]/div/div[2]/div/span/select''')\n",
    "\n",
    "    #Digita \"T\" e depois \"Enter\" \n",
    "    search.send_keys(\"T\")\n",
    "    search.send_keys(Keys.RETURN)\n",
    "\n",
    "    #Espera 5 segundos para carregar completamente\n",
    "    time.sleep(5)\n",
    "\n",
    "    #Código fonte da página que será enviado ao Beautiful Soup\n",
    "    page_source = driver.page_source\n",
    "    \n",
    "    #Convertendo para um objeto Beautiful Soup\n",
    "    instrument_url = bs(page_source, 'lxml')\n",
    "\n",
    "    #Número total de instrumentos\n",
    "    total_links = len(instrument_url.find_all(\"div\", {\"class\": \"item-action\"}))\n",
    "    print(\"Total instruments: {}\".format(total_links))\n",
    "    \n",
    "    #Imprime a página atual\n",
    "    print(pages_url)\n",
    "\n",
    "    #Percorre a página extraindo as urls dos produtos\n",
    "    for i in instrument_url.find_all(\"div\", {\"class\": \"item-action\"}):\n",
    "        url_list.append(\"https://www.barramusic.com.br\" + i.a.get(\"href\"))\n",
    "\n",
    "    print(\"-----------------\")\n",
    "    \n",
    "    return url_list"
   ]
  },
  {
   "cell_type": "markdown",
   "metadata": {},
   "source": [
    "### 5.3 Buscando todos os baixos, guitarras e violões e convertendo para um DataFrame\n",
    "Aplicando as funções criadas no último site para extrair os dados"
   ]
  },
  {
   "cell_type": "code",
   "execution_count": 16,
   "metadata": {
    "ExecuteTime": {
     "end_time": "2020-11-23T21:54:15.712423Z",
     "start_time": "2020-11-23T21:51:40.954087Z"
    }
   },
   "outputs": [
    {
     "name": "stdout",
     "output_type": "stream",
     "text": [
      "Total instruments: 15\n",
      "https://www.barramusic.com.br/categoria/cordas-baixos/35145\n",
      "-----------------\n",
      "Total instruments: 49\n",
      "https://www.barramusic.com.br/categoria/cordas-violoes/35144\n",
      "-----------------\n",
      "Total instruments: 68\n",
      "https://www.barramusic.com.br/categoria/cordas-guitarras/35143\n",
      "-----------------\n"
     ]
    }
   ],
   "source": [
    "#Buscando as urls\n",
    "barra_bass_urls = barra_get_urls(\"https://www.barramusic.com.br/categoria/cordas-baixos/35145\")\n",
    "barra_acoustic_guitar_urls = barra_get_urls(\"https://www.barramusic.com.br/categoria/cordas-violoes/35144\")\n",
    "barra_electric_guitar_urls = barra_get_urls(\"https://www.barramusic.com.br/categoria/cordas-guitarras/35143\")\n",
    "\n",
    "#Buscando as informações dos itens\n",
    "barra_bass_info = barra_get_item(barra_bass_urls)\n",
    "barra_acoustic_guitar_info = barra_get_item(barra_acoustic_guitar_urls)\n",
    "barra_electric_guitar_info = barra_get_item(barra_electric_guitar_urls)\n",
    "\n",
    "#Criando o DataFrame\n",
    "barra_bass_df = pd.DataFrame(barra_bass_info)\n",
    "barra_acoustic_guitar_df = pd.DataFrame(barra_acoustic_guitar_info)\n",
    "barra_electric_guitar_df = pd.DataFrame(barra_electric_guitar_info)"
   ]
  },
  {
   "cell_type": "code",
   "execution_count": 17,
   "metadata": {
    "ExecuteTime": {
     "end_time": "2020-11-23T21:54:15.734364Z",
     "start_time": "2020-11-23T21:54:15.714416Z"
    }
   },
   "outputs": [
    {
     "name": "stdout",
     "output_type": "stream",
     "text": [
      "(15, 8)\n",
      "False    15\n",
      "dtype: int64 \n",
      "\n",
      "(49, 8)\n",
      "False    49\n",
      "dtype: int64 \n",
      "\n",
      "(68, 8)\n",
      "False    68\n",
      "dtype: int64 \n",
      "\n"
     ]
    }
   ],
   "source": [
    "#Checando por valores duplicados\n",
    "dfs = [barra_bass_df, barra_acoustic_guitar_df, barra_electric_guitar_df]\n",
    "\n",
    "for i in dfs:\n",
    "    print(i.shape)\n",
    "    print(i.duplicated().value_counts(), \"\\n\")"
   ]
  },
  {
   "cell_type": "code",
   "execution_count": 18,
   "metadata": {
    "ExecuteTime": {
     "end_time": "2020-11-23T21:54:15.755304Z",
     "start_time": "2020-11-23T21:54:15.736355Z"
    }
   },
   "outputs": [
    {
     "name": "stdout",
     "output_type": "stream",
     "text": [
      "(132, 8)\n"
     ]
    },
    {
     "data": {
      "text/html": [
       "<div>\n",
       "<style scoped>\n",
       "    .dataframe tbody tr th:only-of-type {\n",
       "        vertical-align: middle;\n",
       "    }\n",
       "\n",
       "    .dataframe tbody tr th {\n",
       "        vertical-align: top;\n",
       "    }\n",
       "\n",
       "    .dataframe thead th {\n",
       "        text-align: right;\n",
       "    }\n",
       "</style>\n",
       "<table border=\"1\" class=\"dataframe\">\n",
       "  <thead>\n",
       "    <tr style=\"text-align: right;\">\n",
       "      <th></th>\n",
       "      <th>Name</th>\n",
       "      <th>Brand</th>\n",
       "      <th>Total_Price</th>\n",
       "      <th>Number_Installments</th>\n",
       "      <th>Cash_Price</th>\n",
       "      <th>Image_Url</th>\n",
       "      <th>Description</th>\n",
       "      <th>Store</th>\n",
       "    </tr>\n",
       "  </thead>\n",
       "  <tbody>\n",
       "    <tr>\n",
       "      <th>46</th>\n",
       "      <td>Guitarra Tagima T-805 | Strato | HSS...</td>\n",
       "      <td>Tagima</td>\n",
       "      <td>3149.10</td>\n",
       "      <td>12</td>\n",
       "      <td>2755.46</td>\n",
       "      <td>https://cdn1.appsisecommerce.com.br/...</td>\n",
       "      <td>Um instrumento realmente distinto pa...</td>\n",
       "      <td>Barramusic</td>\n",
       "    </tr>\n",
       "    <tr>\n",
       "      <th>27</th>\n",
       "      <td>Guitarra Cort X100 | HH | Open Pore ...</td>\n",
       "      <td>Cort</td>\n",
       "      <td>1529.15</td>\n",
       "      <td>12</td>\n",
       "      <td>1338.01</td>\n",
       "      <td>https://cdn1.appsisecommerce.com.br/...</td>\n",
       "      <td>A Guitarra Cort X100 faz parte da sé...</td>\n",
       "      <td>Barramusic</td>\n",
       "    </tr>\n",
       "    <tr>\n",
       "      <th>8</th>\n",
       "      <td>Baixo Fender Squier Classic Vibe 70s...</td>\n",
       "      <td>Fender</td>\n",
       "      <td>3999.00</td>\n",
       "      <td>12</td>\n",
       "      <td>3499.12</td>\n",
       "      <td>https://cdn1.appsisecommerce.com.br/...</td>\n",
       "      <td>O Squier Classic Vibe 70's Precision...</td>\n",
       "      <td>Barramusic</td>\n",
       "    </tr>\n",
       "    <tr>\n",
       "      <th>55</th>\n",
       "      <td>Guitarra Vintage V52MR | Tele | Reli...</td>\n",
       "      <td>Guitarras Vintage</td>\n",
       "      <td>3059.10</td>\n",
       "      <td>12</td>\n",
       "      <td>2676.71</td>\n",
       "      <td>https://cdn1.appsisecommerce.com.br/...</td>\n",
       "      <td>Instrumento para o músico que não ab...</td>\n",
       "      <td>Barramusic</td>\n",
       "    </tr>\n",
       "    <tr>\n",
       "      <th>38</th>\n",
       "      <td>Violão Cort CEC 1 | Eletro Acustico ...</td>\n",
       "      <td>Cort</td>\n",
       "      <td>1206.15</td>\n",
       "      <td>12</td>\n",
       "      <td>1055.38</td>\n",
       "      <td>https://cdn1.appsisecommerce.com.br/...</td>\n",
       "      <td>Violão Cort CEC 1 Eletro Acústico co...</td>\n",
       "      <td>Barramusic</td>\n",
       "    </tr>\n",
       "  </tbody>\n",
       "</table>\n",
       "</div>"
      ],
      "text/plain": [
       "                                       Name              Brand Total_Price  \\\n",
       "46  Guitarra Tagima T-805 | Strato | HSS...             Tagima     3149.10   \n",
       "27  Guitarra Cort X100 | HH | Open Pore ...               Cort     1529.15   \n",
       "8   Baixo Fender Squier Classic Vibe 70s...             Fender     3999.00   \n",
       "55  Guitarra Vintage V52MR | Tele | Reli...  Guitarras Vintage     3059.10   \n",
       "38  Violão Cort CEC 1 | Eletro Acustico ...               Cort     1206.15   \n",
       "\n",
       "   Number_Installments Cash_Price                                Image_Url  \\\n",
       "46                  12    2755.46  https://cdn1.appsisecommerce.com.br/...   \n",
       "27                  12    1338.01  https://cdn1.appsisecommerce.com.br/...   \n",
       "8                   12    3499.12  https://cdn1.appsisecommerce.com.br/...   \n",
       "55                  12    2676.71  https://cdn1.appsisecommerce.com.br/...   \n",
       "38                  12    1055.38  https://cdn1.appsisecommerce.com.br/...   \n",
       "\n",
       "                                Description       Store  \n",
       "46  Um instrumento realmente distinto pa...  Barramusic  \n",
       "27  A Guitarra Cort X100 faz parte da sé...  Barramusic  \n",
       "8   O Squier Classic Vibe 70's Precision...  Barramusic  \n",
       "55  Instrumento para o músico que não ab...  Barramusic  \n",
       "38  Violão Cort CEC 1 Eletro Acústico co...  Barramusic  "
      ]
     },
     "execution_count": 18,
     "metadata": {},
     "output_type": "execute_result"
    }
   ],
   "source": [
    "#Juntando os três DataFrames em um só\n",
    "\n",
    "#Ajustando o tamanho das colunas\n",
    "pd.set_option('max_colwidth', 40)\n",
    "\n",
    "#Juntando os DataFrames e imprimindo uma amostra dos dados\n",
    "barra_df = pd.DataFrame()\n",
    "barra_df = barra_df.append([barra_bass_df, barra_electric_guitar_df, barra_acoustic_guitar_df])\n",
    "\n",
    "print(barra_df.shape)\n",
    "\n",
    "barra_df.sample(5)"
   ]
  },
  {
   "cell_type": "markdown",
   "metadata": {},
   "source": [
    "## 6.0 Exportando para Excel"
   ]
  },
  {
   "cell_type": "markdown",
   "metadata": {},
   "source": [
    "Pronto! Com as informações desejadas devidamente salvas em um Dataframe, vamos agora salvar os dados em um arquivo Excel. A parte de exploração de dados será realizada na **parte 02**. "
   ]
  },
  {
   "cell_type": "code",
   "execution_count": 7,
   "metadata": {
    "ExecuteTime": {
     "end_time": "2020-11-23T21:42:03.538701Z",
     "start_time": "2020-11-23T21:42:03.299144Z"
    }
   },
   "outputs": [],
   "source": [
    "#Exportando para Excel - Tango\n",
    "tango_df.to_excel(r'Tango_df.xlsx', index = False)"
   ]
  },
  {
   "cell_type": "code",
   "execution_count": 7,
   "metadata": {
    "ExecuteTime": {
     "end_time": "2020-11-24T20:00:40.304256Z",
     "start_time": "2020-11-24T20:00:40.096609Z"
    }
   },
   "outputs": [],
   "source": [
    "#Exportando para Excel - Made In Brazil\n",
    "made_in_brazil_df.to_excel(r'Made in Brazil_df.xlsx', index = False)"
   ]
  },
  {
   "cell_type": "code",
   "execution_count": 19,
   "metadata": {
    "ExecuteTime": {
     "end_time": "2020-11-23T21:54:31.852525Z",
     "start_time": "2020-11-23T21:54:31.725863Z"
    }
   },
   "outputs": [],
   "source": [
    "#Exportando para Excel - Barra Music\n",
    "barra_df.to_excel(r'Barra_df.xlsx', index = False)"
   ]
  }
 ],
 "metadata": {
  "kernelspec": {
   "display_name": "Python 3",
   "language": "python",
   "name": "python3"
  },
  "language_info": {
   "codemirror_mode": {
    "name": "ipython",
    "version": 3
   },
   "file_extension": ".py",
   "mimetype": "text/x-python",
   "name": "python",
   "nbconvert_exporter": "python",
   "pygments_lexer": "ipython3",
   "version": "3.7.6"
  }
 },
 "nbformat": 4,
 "nbformat_minor": 4
}
